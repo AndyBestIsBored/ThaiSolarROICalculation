{
 "cells": [
  {
   "cell_type": "code",
   "execution_count": 2,
   "metadata": {},
   "outputs": [],
   "source": [
    "import json, requests"
   ]
  },
  {
   "cell_type": "code",
   "execution_count": 3,
   "metadata": {},
   "outputs": [],
   "source": [
    "location_name = \"T3 Technology\"\n",
    "location = [13.775369373556686, 100.59884245347287]\n",
    "mounting_method = \"building\"\n",
    "system_capacity = 3\n",
    "system_loss = 14"
   ]
  },
  {
   "cell_type": "code",
   "execution_count": 4,
   "metadata": {},
   "outputs": [],
   "source": [
    "def get_pv_info(location, mounting_method, system_capacity, system_loss):\n",
    "    url_base = f\"https://re.jrc.ec.europa.eu/api/v5_2/PVcalc?\"\n",
    "\n",
    "    pvgis_params = dict(\n",
    "        lat=location[0],\n",
    "        lon=location[1],\n",
    "        mountingplace=mounting_method,\n",
    "        peakpower=system_capacity,\n",
    "        loss=system_loss,\n",
    "        optimalangles=1,\n",
    "        outputformat=\"json\",\n",
    "    )\n",
    "\n",
    "    params = \"&\".join([f\"{key}={value}\" for key, value in pvgis_params.items()])\n",
    "    url_final = f\"{url_base}&{params}\"\n",
    "\n",
    "    pvgis_response = requests.get(url_final)\n",
    "    pvgis_json = json.loads(pvgis_response.text)\n",
    "    return pvgis_json\n",
    "\n",
    "\n",
    "def extract_monthly_solar(pvgis_json):\n",
    "    return pvgis_json[\"outputs\"][\"totals\"][\"fixed\"][\"E_m\"]"
   ]
  },
  {
   "cell_type": "code",
   "execution_count": 5,
   "metadata": {},
   "outputs": [],
   "source": [
    "pv_api_result = get_pv_info(location, mounting_method, system_capacity, system_loss)\n",
    "monthly_solar_kWh = extract_monthly_solar(pv_api_result)\n",
    "\n",
    "pv_system_json = {\"name\":location_name,\n",
    "                  \"location\": location,\n",
    "                  \"mounting method\": mounting_method,\n",
    "                  \"system loss\": system_loss,\n",
    "                  \"monthly solar energy\": monthly_solar_kWh,\n",
    "                  \"system capacity\": system_capacity,}\n",
    "\n",
    "pv_naming = f\"{system_capacity}kW\"\n",
    "\n",
    "file_name = f\"{location_name}_{pv_naming}\"\n",
    "\n",
    "with open(file_name, \"w\") as outfile:\n",
    "    json.dump(pv_system_json, outfile)"
   ]
  },
  {
   "cell_type": "code",
   "execution_count": 6,
   "metadata": {},
   "outputs": [
    {
     "data": {
      "text/plain": [
       "'T3 Technology_3kW'"
      ]
     },
     "execution_count": 6,
     "metadata": {},
     "output_type": "execute_result"
    }
   ],
   "source": [
    "file_name"
   ]
  }
 ],
 "metadata": {
  "kernelspec": {
   "display_name": "Python 3",
   "language": "python",
   "name": "python3"
  },
  "language_info": {
   "codemirror_mode": {
    "name": "ipython",
    "version": 3
   },
   "file_extension": ".py",
   "mimetype": "text/x-python",
   "name": "python",
   "nbconvert_exporter": "python",
   "pygments_lexer": "ipython3",
   "version": "3.10.11"
  }
 },
 "nbformat": 4,
 "nbformat_minor": 2
}

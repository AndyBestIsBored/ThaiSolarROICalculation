{
 "cells": [
  {
   "cell_type": "code",
   "execution_count": 1,
   "metadata": {},
   "outputs": [],
   "source": [
    "import matplotlib.pyplot as plt\n",
    "import pandas as pd\n",
    "import numpy as np\n",
    "import seaborn as sns\n",
    "import os\n",
    "import json\n",
    "\n",
    "from scipy import integrate"
   ]
  },
  {
   "cell_type": "code",
   "execution_count": 2,
   "metadata": {},
   "outputs": [
    {
     "data": {
      "text/plain": [
       "805.8776176016754"
      ]
     },
     "execution_count": 2,
     "metadata": {},
     "output_type": "execute_result"
    }
   ],
   "source": [
    "(10_808 * 1_000_000) / 7 / (5_104_476 + 388_920 + 254_375) * 3"
   ]
  },
  {
   "cell_type": "code",
   "execution_count": 26,
   "metadata": {},
   "outputs": [],
   "source": [
    "system_name = \"T3 Technology_5kW_without Fit_10 kWh\"\n",
    "monthly_consumption_kWh = 805.8776176016754\n",
    "tou = False\n",
    "month = \"July\"\n",
    "year = 2024\n",
    "fit_price = 2.2"
   ]
  },
  {
   "cell_type": "code",
   "execution_count": 27,
   "metadata": {},
   "outputs": [],
   "source": [
    "pv_system_folder = \"PV Information\"\n",
    "\n",
    "for file in os.listdir(pv_system_folder):\n",
    "    if system_name in file:\n",
    "        with open(os.path.join(pv_system_folder, file), \"r\") as pv_system_info_file:\n",
    "            pv_system_info = json.load(pv_system_info_file)\n",
    "\n",
    "full_json = pv_system_info\n",
    "full_json[\"FiT price\"] = fit_price"
   ]
  },
  {
   "cell_type": "code",
   "execution_count": 28,
   "metadata": {},
   "outputs": [],
   "source": [
    "consumption_profile_folder = \"Daily Consumption Profile\"\n",
    "\n",
    "tariff_consumption_threshold = 150\n",
    "if tou:\n",
    "    tariff_type = \"1.3\"\n",
    "elif monthly_consumption_kWh <= tariff_consumption_threshold:\n",
    "    tariff_type = \"1.1\"\n",
    "else:\n",
    "    tariff_type = \"1.2\"\n",
    "\n",
    "for file in os.listdir(consumption_profile_folder):\n",
    "    if tariff_type in file and \"Unit\" in file:\n",
    "        consumption_profile_df = pd.read_csv(os.path.join(consumption_profile_folder, file))\n",
    "        break\n",
    "\n",
    "consumption_profile_df[\"Consumption\"] = consumption_profile_df[\"Consumption\"] * monthly_consumption_kWh\n",
    "full_df = consumption_profile_df\n",
    "full_json[\"tariff type\"] = tariff_type\n",
    "full_json[\"monthly consumption\"] = monthly_consumption_kWh"
   ]
  },
  {
   "cell_type": "code",
   "execution_count": 29,
   "metadata": {},
   "outputs": [],
   "source": [
    "generation_profile_folder = \"Daily Generation Profile\"\n",
    "\n",
    "for file in os.listdir(generation_profile_folder):\n",
    "    if \"Unit\" in file:\n",
    "        generation_profile_df = pd.read_csv(os.path.join(generation_profile_folder, file))\n",
    "\n",
    "egat_region = full_json[\"egat region\"]\n",
    "\n",
    "generation_profile_df[\"Generation\"] = (\n",
    "    generation_profile_df[egat_region] * full_json[\"monthly solar energy\"]\n",
    ")\n",
    "generation_profile_df = generation_profile_df[[\"time\", \"Generation\"]]\n",
    "\n",
    "full_df[\"Generation\"] = generation_profile_df[\"Generation\"]"
   ]
  },
  {
   "cell_type": "code",
   "execution_count": 30,
   "metadata": {},
   "outputs": [],
   "source": [
    "energy_saved_profile_df = pd.DataFrame(\n",
    "    {\n",
    "        \"time\": full_df[\"time\"],\n",
    "        \"Energy saved\": np.minimum(full_df[\"Consumption\"], full_df[\"Generation\"]),\n",
    "    }\n",
    ")\n",
    "full_df[\"Energy saved\"] = energy_saved_profile_df[\"Energy saved\"]\n",
    "\n",
    "energy_saved = integrate.trapezoid(\n",
    "    energy_saved_profile_df[\"Energy saved\"], energy_saved_profile_df[\"time\"]\n",
    ")\n",
    "full_json[\"energy saved\"] = energy_saved"
   ]
  },
  {
   "cell_type": "code",
   "execution_count": 31,
   "metadata": {},
   "outputs": [],
   "source": [
    "battery_profile_arr = []\n",
    "battery_capacity = full_json[\"battery\"] * 30.4375\n",
    "if tou:\n",
    "    on_peak_period = [9, 22]\n",
    "    for index, values in full_df.iterrows():\n",
    "        if not on_peak_period[0] <= values[\"time\"] < on_peak_period[1]:\n",
    "            if index == 0:\n",
    "                battery_profile_arr.append(battery_capacity)\n",
    "                continue\n",
    "            elif battery_profile_arr[-1] < battery_capacity:\n",
    "                battery_profile_arr.append(battery_capacity)\n",
    "            else:\n",
    "                battery_profile_arr.append(battery_profile_arr[-1])\n",
    "        else:\n",
    "            if battery_profile_arr[-1] > 0:\n",
    "                battery_profile_arr.append(max([battery_profile_arr[-1] - max([(values[\"Generation\"] - values[\"Consumption\"]), 0]), 0]))\n",
    "            else:\n",
    "                battery_profile_arr.append(battery_profile_arr[-1])\n",
    "else:\n",
    "    for index, values in full_df.iterrows():\n",
    "        if index == 0:\n",
    "            battery_profile_arr.append(0)\n",
    "            continue\n",
    "        if values[\"Generation\"] - values[\"Consumption\"] > 0:\n",
    "            battery_profile_arr.append(min(battery_profile_arr[-1] + (values[\"Generation\"] - values[\"Consumption\"]), battery_capacity))\n",
    "        else:\n",
    "            battery_profile_arr.append(max(battery_profile_arr[-1] - (values[\"Consumption\"] - values[\"Generation\"]), 0))\n",
    "\n",
    "battery_profile_df = pd.DataFrame(\n",
    "    {\n",
    "        \"time\": full_df[\"time\"],\n",
    "        \"Battery\": battery_profile_arr,\n",
    "        \"Charging\": np.maximum(\n",
    "            battery_profile_arr\n",
    "            - np.insert(battery_profile_arr, 0, battery_profile_arr[0])[:-1],\n",
    "            0,\n",
    "        ),\n",
    "        \"Discharging\": np.minimum(\n",
    "            battery_profile_arr\n",
    "            - np.insert(battery_profile_arr, 0, battery_profile_arr[0])[:-1],\n",
    "            0,\n",
    "        ),\n",
    "    }\n",
    ")\n",
    "\n",
    "full_df[\"Battery\"] = battery_profile_df[\"Battery\"]\n",
    "full_df[\"Charging\"] = battery_profile_df[\"Charging\"]\n",
    "full_df[\"Discharging\"] = battery_profile_df[\"Discharging\"]\n",
    "\n",
    "energy_charged = integrate.trapezoid(battery_profile_df[\"Charging\"], battery_profile_df[\"time\"])\n",
    "energy_discharged = integrate.trapezoid(\n",
    "    battery_profile_df[\"Discharging\"], battery_profile_df[\"time\"]\n",
    ")"
   ]
  },
  {
   "cell_type": "code",
   "execution_count": 32,
   "metadata": {},
   "outputs": [],
   "source": [
    "energy_sold_profile_df = pd.DataFrame({\"time\":full_df[\"time\"]})\n",
    "\n",
    "if pv_system_info[\"FiT\"]:\n",
    "    energy_sold_profile_df[\"Energy sold\"] = np.maximum(\n",
    "        0, (full_df[\"Generation\"] - full_df[\"Consumption\"]).to_numpy()\n",
    "    )\n",
    "else:\n",
    "    energy_sold_profile_df[\"Energy sold\"] = np.zeros(full_df.shape[0])\n",
    "full_df[\"Energy sold\"] = energy_sold_profile_df[\"Energy sold\"]\n",
    "\n",
    "energy_sold = integrate.trapezoid(\n",
    "    energy_sold_profile_df[\"Energy sold\"], energy_sold_profile_df[\"time\"]\n",
    ")\n",
    "full_json[\"Energy sold\"] = energy_sold"
   ]
  },
  {
   "cell_type": "code",
   "execution_count": 33,
   "metadata": {},
   "outputs": [],
   "source": [
    "net_consumption_df = pd.DataFrame(\n",
    "    {\n",
    "        \"time\": full_df[\"time\"],\n",
    "        \"Net consumption\": full_df[\"Consumption\"]\n",
    "        # + full_df[\"Charging\"]\n",
    "        # + full_df[\"Discharging\"]\n",
    "        - full_df[\"Energy saved\"],\n",
    "    }\n",
    ")"
   ]
  },
  {
   "cell_type": "code",
   "execution_count": 34,
   "metadata": {},
   "outputs": [
    {
     "data": {
      "text/plain": [
       "Text(0.5, 0, 'Time of Day (hour)')"
      ]
     },
     "execution_count": 34,
     "metadata": {},
     "output_type": "execute_result"
    },
    {
     "data": {
      "image/png": "[encoded data removed]",
      "text/plain": [
       "<Figure size 432x288 with 1 Axes>"
      ]
     },
     "metadata": {
      "needs_background": "light"
     },
     "output_type": "display_data"
    }
   ],
   "source": [
    "plt.plot(\n",
    "    consumption_profile_df[\"time\"],\n",
    "    consumption_profile_df[\"Consumption\"],\n",
    "    label=\"Consumption\",\n",
    ")\n",
    "\n",
    "plt.plot(\n",
    "    generation_profile_df[\"time\"],\n",
    "    generation_profile_df[\"Generation\"],\n",
    "    label=\"Generation\",\n",
    ")\n",
    "\n",
    "plt.plot(net_consumption_df[\"time\"], net_consumption_df[\"Net consumption\"], label=\"Net Consumption\")\n",
    "\n",
    "plt.fill_between(energy_saved_profile_df[\"time\"], energy_saved_profile_df[\"Energy saved\"], alpha=0.4, label=\"Energy Saved\")\n",
    "\n",
    "plt.fill_between(\n",
    "    energy_sold_profile_df[\"time\"],\n",
    "    energy_sold_profile_df[\"Energy sold\"] + consumption_profile_df[\"Consumption\"],\n",
    "    consumption_profile_df[\"Consumption\"],\n",
    "    alpha=0.4,\n",
    "    label=\"Energy Sold\",\n",
    ")\n",
    "\n",
    "plt.legend()\n",
    "plt.title(\"Daily Electricity Profile\")\n",
    "plt.ylabel(\"Power (kW)\")\n",
    "plt.xlabel(\"Time of Day (hour)\")"
   ]
  },
  {
   "cell_type": "code",
   "execution_count": 35,
   "metadata": {},
   "outputs": [],
   "source": [
    "def energy2cost_no_tou(monthly_consumption_kWh):\n",
    "    cost = 0\n",
    "    if monthly_consumption_kWh < tariff_consumption_threshold:\n",
    "        cost += np.max([(np.min([15, monthly_consumption_kWh]) - 0) * 2.3488, 0])\n",
    "        cost += np.max([(np.min([25, monthly_consumption_kWh]) - 15) * 2.9882, 0])\n",
    "        cost += np.max([(np.min([35, monthly_consumption_kWh]) - 25) * 3.2405, 0])\n",
    "        cost += np.max([(np.min([100, monthly_consumption_kWh]) - 35) * 3.6237, 0])\n",
    "        cost += np.max([(np.min([150, monthly_consumption_kWh]) - 100) * 3.7171, 0])\n",
    "    else:\n",
    "        cost += np.max([(np.min([150, monthly_consumption_kWh]) - 0) * 3.2484, 0])\n",
    "        cost += np.max([(np.min([400, monthly_consumption_kWh]) - 150) * 4.2218, 0])\n",
    "        cost += np.max([(monthly_consumption_kWh - 400) * 3.2484, 0])\n",
    "    return cost"
   ]
  },
  {
   "cell_type": "code",
   "execution_count": 60,
   "metadata": {},
   "outputs": [],
   "source": [
    "# Convert energy saved to money saved\n",
    "money_saved = 0\n",
    "\n",
    "if tou:\n",
    "    pass\n",
    "else:\n",
    "    original_price = energy2cost_no_tou(monthly_consumption_kWh)\n",
    "    new_price = energy2cost_no_tou(\n",
    "        monthly_consumption_kWh - energy_saved - energy_charged * 2\n",
    "    )\n",
    "    money_saved = original_price - new_price"
   ]
  },
  {
   "cell_type": "code",
   "execution_count": 53,
   "metadata": {},
   "outputs": [],
   "source": [
    "money_sold = 0\n",
    "\n",
    "if pv_system_info[\"FiT\"]:\n",
    "    money_sold += energy_sold * 2.2"
   ]
  },
  {
   "cell_type": "code",
   "execution_count": 54,
   "metadata": {},
   "outputs": [
    {
     "data": {
      "text/plain": [
       "152.1875"
      ]
     },
     "execution_count": 54,
     "metadata": {},
     "output_type": "execute_result"
    }
   ],
   "source": [
    "energy_charged"
   ]
  },
  {
   "cell_type": "code",
   "execution_count": 55,
   "metadata": {},
   "outputs": [
    {
     "data": {
      "text/plain": [
       "1148.648065909557"
      ]
     },
     "execution_count": 55,
     "metadata": {},
     "output_type": "execute_result"
    }
   ],
   "source": [
    "money_saved"
   ]
  },
  {
   "cell_type": "code",
   "execution_count": 56,
   "metadata": {},
   "outputs": [
    {
     "data": {
      "text/plain": [
       "1148.648065909557"
      ]
     },
     "execution_count": 56,
     "metadata": {},
     "output_type": "execute_result"
    }
   ],
   "source": [
    "money_saved"
   ]
  },
  {
   "cell_type": "code",
   "execution_count": 57,
   "metadata": {},
   "outputs": [
    {
     "data": {
      "text/plain": [
       "1148.648065909557"
      ]
     },
     "execution_count": 57,
     "metadata": {},
     "output_type": "execute_result"
    }
   ],
   "source": [
    "total_profit = money_saved + money_sold\n",
    "total_profit"
   ]
  },
  {
   "cell_type": "code",
   "execution_count": 58,
   "metadata": {},
   "outputs": [
    {
     "data": {
      "text/plain": [
       "427.29708051835524"
      ]
     },
     "execution_count": 58,
     "metadata": {},
     "output_type": "execute_result"
    }
   ],
   "source": [
    "total_profit * 12 * 0.031"
   ]
  },
  {
   "cell_type": "code",
   "execution_count": 59,
   "metadata": {},
   "outputs": [
    {
     "data": {
      "text/plain": [
       "357.9460957499999"
      ]
     },
     "execution_count": 59,
     "metadata": {},
     "output_type": "execute_result"
    }
   ],
   "source": [
    "10 * 30.4375 * (5.7982-2.6369) * 12 * 0.031"
   ]
  }
 ],
 "metadata": {
  "kernelspec": {
   "display_name": "Python 3",
   "language": "python",
   "name": "python3"
  },
  "language_info": {
   "codemirror_mode": {
    "name": "ipython",
    "version": 3
   },
   "file_extension": ".py",
   "mimetype": "text/x-python",
   "name": "python",
   "nbconvert_exporter": "python",
   "pygments_lexer": "ipython3",
   "version": "3.10.11"
  }
 },
 "nbformat": 4,
 "nbformat_minor": 2
}

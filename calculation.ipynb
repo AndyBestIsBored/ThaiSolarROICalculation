{
 "cells": [
  {
   "cell_type": "code",
   "execution_count": 49,
   "metadata": {},
   "outputs": [],
   "source": [
    "import matplotlib.pyplot as plt\n",
    "import pandas as pd\n",
    "import numpy as np\n",
    "import seaborn as sns\n",
    "import os\n",
    "import json\n",
    "\n",
    "from scipy import integrate"
   ]
  },
  {
   "cell_type": "markdown",
   "metadata": {},
   "source": [
    "comes from MEA Data \n",
    "MEA usage per month / MEA population * people per household\n",
    "(10_808 * 1_000_000) / 7 / (5_104_476 + 388_920 + 254_375) * 3 "
   ]
  },
  {
   "cell_type": "code",
   "execution_count": 50,
   "metadata": {},
   "outputs": [],
   "source": [
    "system_name = \"T3 Technology_5kW\"\n",
    "egat_region = \"Metropolitan\"\n",
    "monthly_consumption_kWh = 805.8776176016754 \n",
    "tou = True\n",
    "month = \"July\"\n",
    "year = 2024\n",
    "fit = 0\n",
    "battery = 10"
   ]
  },
  {
   "cell_type": "code",
   "execution_count": 51,
   "metadata": {},
   "outputs": [],
   "source": [
    "pv_system_folder = \"PV Information\"\n",
    "\n",
    "for file in os.listdir(pv_system_folder):\n",
    "    if system_name in file:\n",
    "        with open(os.path.join(pv_system_folder, file), \"r\") as pv_system_info_file:\n",
    "            pv_system_info = json.load(pv_system_info_file)\n",
    "\n",
    "full_json = pv_system_info\n",
    "full_json[\"battery\"] = battery\n",
    "full_json[\"egat region\"] = egat_region\n",
    "full_json[\"tou\"] = tou\n",
    "full_json[\"fit\"] = fit"
   ]
  },
  {
   "cell_type": "code",
   "execution_count": 52,
   "metadata": {},
   "outputs": [],
   "source": [
    "consumption_profile_folder = \"Daily Consumption Profile\"\n",
    "\n",
    "tariff_consumption_threshold = 150\n",
    "if tou:\n",
    "    tariff_type = \"1.3\"\n",
    "elif monthly_consumption_kWh <= tariff_consumption_threshold:\n",
    "    tariff_type = \"1.1\"\n",
    "else:\n",
    "    tariff_type = \"1.2\"\n",
    "\n",
    "for file in os.listdir(consumption_profile_folder):\n",
    "    if tariff_type in file and \"Unit\" in file:\n",
    "        consumption_profile_df = pd.read_csv(os.path.join(consumption_profile_folder, file))\n",
    "        break\n",
    "\n",
    "consumption_profile_df[\"Consumption\"] = consumption_profile_df[\"Consumption\"] * monthly_consumption_kWh\n",
    "full_df = consumption_profile_df\n",
    "full_json[\"tariff type\"] = tariff_type\n",
    "full_json[\"monthly consumption\"] = monthly_consumption_kWh"
   ]
  },
  {
   "cell_type": "code",
   "execution_count": 53,
   "metadata": {},
   "outputs": [],
   "source": [
    "generation_profile_folder = \"Daily Generation Profile\"\n",
    "\n",
    "for file in os.listdir(generation_profile_folder):\n",
    "    if \"Unit\" in file:\n",
    "        generation_profile_df = pd.read_csv(os.path.join(generation_profile_folder, file))\n",
    "\n",
    "egat_region = full_json[\"egat region\"]\n",
    "\n",
    "generation_profile_df[\"Generation\"] = (\n",
    "    generation_profile_df[egat_region] * full_json[\"monthly solar energy\"]\n",
    ")\n",
    "generation_profile_df = generation_profile_df[[\"time\", \"Generation\"]]\n",
    "\n",
    "full_df[\"Generation\"] = generation_profile_df[\"Generation\"]"
   ]
  },
  {
   "cell_type": "code",
   "execution_count": 54,
   "metadata": {},
   "outputs": [],
   "source": [
    "energy_saved_profile_df = pd.DataFrame(\n",
    "    {\n",
    "        \"time\": full_df[\"time\"],\n",
    "        \"Energy saved\": np.minimum(full_df[\"Consumption\"], full_df[\"Generation\"]),\n",
    "    }\n",
    ")\n",
    "full_df[\"Energy saved\"] = energy_saved_profile_df[\"Energy saved\"]\n",
    "\n",
    "energy_saved = integrate.trapezoid(\n",
    "    energy_saved_profile_df[\"Energy saved\"], energy_saved_profile_df[\"time\"]\n",
    ")\n",
    "full_json[\"energy saved\"] = energy_saved"
   ]
  },
  {
   "cell_type": "code",
   "execution_count": 55,
   "metadata": {},
   "outputs": [],
   "source": [
    "battery_profile_arr = []\n",
    "battery_from_grid_arr = []\n",
    "\n",
    "battery_capacity = full_json[\"battery\"] * 30.4375\n",
    "on_peak_period = [9, 22]\n",
    "\n",
    "if tou:\n",
    "    for index, values in full_df.iterrows():\n",
    "        if not on_peak_period[0] < values[\"time\"] <= on_peak_period[1]: # Not in peak hour.\n",
    "            if index == 0:\n",
    "                battery_from_grid_arr.append(0)\n",
    "                battery_profile_arr.append(battery_capacity)\n",
    "                continue\n",
    "            elif battery_profile_arr[-1] < battery_capacity:\n",
    "                battery_from_grid_arr.append((battery_capacity - battery_profile_arr[-1])*2/0.5)\n",
    "                battery_profile_arr.append(battery_capacity)\n",
    "            else:\n",
    "                battery_from_grid_arr.append(0)\n",
    "                battery_profile_arr.append(battery_capacity)\n",
    "        else: # During peak hour.\n",
    "            if values[\"Generation\"] - values[\"Consumption\"] > 0:\n",
    "                battery_from_grid_arr.append(0)\n",
    "                battery_profile_arr.append(min([battery_profile_arr[-1] + (\n",
    "                    values[\"Generation\"] - values[\"Consumption\"]\n",
    "                )*0.5/2, battery_capacity]))\n",
    "            else:\n",
    "                battery_from_grid_arr.append(-min([battery_profile_arr[-1]*2/0.5, values[\"Consumption\"] - values[\"Generation\"]]))\n",
    "                battery_profile_arr.append(\n",
    "                    max(\n",
    "                        [\n",
    "                            battery_profile_arr[-1]\n",
    "                            - (values[\"Consumption\"] - values[\"Generation\"])*0.5/2,\n",
    "                            0,\n",
    "                        ]\n",
    "                    )\n",
    "                )\n",
    "else:\n",
    "    for index, values in full_df.iterrows():\n",
    "        if index == 0:\n",
    "            battery_from_grid_arr.append(0)\n",
    "            battery_profile_arr.append(0)\n",
    "            continue\n",
    "        if values[\"Generation\"] - values[\"Consumption\"] > 0:\n",
    "            battery_from_grid_arr.append(0)\n",
    "            battery_profile_arr.append(min(battery_profile_arr[-1] + (values[\"Generation\"] - values[\"Consumption\"])*0.5/2, battery_capacity))\n",
    "        else:\n",
    "            battery_from_grid_arr.append(-min([battery_profile_arr[-1]*2/0.5, values[\"Consumption\"] - values[\"Generation\"]]))\n",
    "            battery_profile_arr.append(max(battery_profile_arr[-1] - (values[\"Consumption\"] - values[\"Generation\"])*0.5/2, 0))\n",
    "\n",
    "battery_profile_df = pd.DataFrame(\n",
    "    {\n",
    "        \"time\": full_df[\"time\"],\n",
    "        \"Battery\": battery_profile_arr,\n",
    "        \"Battery from grid\": battery_from_grid_arr\n",
    "    }\n",
    ")\n",
    "\n",
    "full_df[\"Battery\"] = battery_profile_df[\"Battery\"]\n",
    "\n",
    "full_df[\"Battery from grid\"] = battery_profile_df[\"Battery from grid\"]\n",
    "\n",
    "battery_from_grid = integrate.trapezoid(full_df[\"Battery from grid\"], full_df[\"time\"])\n",
    "full_json[\"battery from grid\"] = battery_from_grid"
   ]
  },
  {
   "cell_type": "code",
   "execution_count": 56,
   "metadata": {},
   "outputs": [],
   "source": [
    "initial_charge = 0\n",
    "if tou:\n",
    "    initial_charge = battery_capacity\n",
    "charge_profile_arr = (\n",
    "    (full_df[\"Battery\"] - np.insert(full_df[\"Battery\"].to_numpy(), 0, initial_charge)[:-1])*2/0.5\n",
    ")\n",
    "\n",
    "battery_profile_df[\"Charge profile\"] = charge_profile_arr\n",
    "full_df[\"Charge profile\"] = battery_profile_df[\"Charge profile\"]"
   ]
  },
  {
   "cell_type": "code",
   "execution_count": 57,
   "metadata": {},
   "outputs": [],
   "source": [
    "energy_sold_profile_df = pd.DataFrame({\"time\":full_df[\"time\"]})\n",
    "\n",
    "if pv_system_info[\"fit\"]:\n",
    "    energy_sold_profile_df[\"Energy sold\"] = np.maximum(\n",
    "        0, (full_df[\"Generation\"] - full_df[\"Consumption\"]).to_numpy()) - (full_df[\"Charge profile\"] - full_df[\"Battery from grid\"])\n",
    "else:\n",
    "    energy_sold_profile_df[\"Energy sold\"] = np.zeros(full_df.shape[0])\n",
    "full_df[\"Energy sold\"] = energy_sold_profile_df[\"Energy sold\"]\n",
    "\n",
    "energy_sold = integrate.trapezoid(\n",
    "    energy_sold_profile_df[\"Energy sold\"], energy_sold_profile_df[\"time\"]\n",
    ")\n",
    "full_json[\"Energy sold\"] = energy_sold"
   ]
  },
  {
   "cell_type": "code",
   "execution_count": 58,
   "metadata": {},
   "outputs": [],
   "source": [
    "net_consumption_df = pd.DataFrame(\n",
    "    {\n",
    "        \"time\": full_df[\"time\"],\n",
    "        \"Net consumption\": full_df[\"Consumption\"]\n",
    "        + full_df[\"Battery from grid\"]\n",
    "        - full_df[\"Energy saved\"],\n",
    "    }\n",
    ")\n",
    "full_df[\"Net consumption\"] = net_consumption_df[\"Net consumption\"]\n",
    "\n",
    "net_consumption = integrate.trapezoid(full_df[\"Net consumption\"], full_df[\"time\"])\n",
    "full_json[\"Net consumption\"] = net_consumption"
   ]
  },
  {
   "cell_type": "code",
   "execution_count": 59,
   "metadata": {},
   "outputs": [
    {
     "data": {
      "text/plain": [
       "Text(0.5, 0, 'Time of Day (hour)')"
      ]
     },
     "execution_count": 59,
     "metadata": {},
     "output_type": "execute_result"
    },
    {
     "data": {
      "image/png": "[encoded data removed]",
      "text/plain": [
       "<Figure size 432x288 with 1 Axes>"
      ]
     },
     "metadata": {
      "needs_background": "light"
     },
     "output_type": "display_data"
    }
   ],
   "source": [
    "plt.plot(\n",
    "    full_df[\"time\"],\n",
    "    full_df[\"Consumption\"],\n",
    "    label=\"Consumption\",\n",
    ")\n",
    "\n",
    "plt.plot(\n",
    "    full_df[\"time\"],\n",
    "    full_df[\"Generation\"],\n",
    "    label=\"Generation\",\n",
    ")\n",
    "\n",
    "plt.plot(full_df[\"time\"], full_df[\"Net consumption\"], label=\"Net Consumption\")\n",
    "\n",
    "plt.fill_between(\n",
    "    full_df[\"time\"],\n",
    "    full_df[\"Energy saved\"],\n",
    "    alpha=0.4,\n",
    "    label=\"Energy Saved\",\n",
    ")\n",
    "\n",
    "plt.fill_between(\n",
    "    full_df[\"time\"],\n",
    "    full_df[\"Charge profile\"] + full_df[\"Consumption\"],\n",
    "    full_df[\"Consumption\"],\n",
    "    alpha=0.4,\n",
    "    label=\"Battery\",\n",
    ")\n",
    "\n",
    "plt.fill_between(\n",
    "    full_df[\"time\"],\n",
    "    full_df[\"Generation\"] - full_df[\"Energy sold\"],\n",
    "    full_df[\"Generation\"],\n",
    "    alpha=0.4,\n",
    "    label=\"Energy Sold\",\n",
    ")\n",
    "\n",
    "if tou:\n",
    "    plt.axvline(on_peak_period[0], color=\"red\", linestyle=\"--\")\n",
    "    plt.axvline(on_peak_period[1], color=\"red\", linestyle=\"--\")\n",
    "\n",
    "plt.legend()\n",
    "plt.title(\"Daily Electricity Profile\")\n",
    "plt.ylabel(\"Power (kW)\")\n",
    "plt.xlabel(\"Time of Day (hour)\")"
   ]
  },
  {
   "cell_type": "code",
   "execution_count": 60,
   "metadata": {},
   "outputs": [],
   "source": [
    "def energy2cost_no_tou(monthly_consumption_kWh):\n",
    "    cost = 0\n",
    "    if monthly_consumption_kWh < tariff_consumption_threshold:\n",
    "        cost += np.max([(np.min([15, monthly_consumption_kWh]) - 0) * 2.3488, 0])\n",
    "        cost += np.max([(np.min([25, monthly_consumption_kWh]) - 15) * 2.9882, 0])\n",
    "        cost += np.max([(np.min([35, monthly_consumption_kWh]) - 25) * 3.2405, 0])\n",
    "        cost += np.max([(np.min([100, monthly_consumption_kWh]) - 35) * 3.6237, 0])\n",
    "        cost += np.max([(np.min([150, monthly_consumption_kWh]) - 100) * 3.7171, 0])\n",
    "    else:\n",
    "        cost += np.max([(np.min([150, monthly_consumption_kWh]) - 0) * 3.2484, 0])\n",
    "        cost += np.max([(np.min([400, monthly_consumption_kWh]) - 150) * 4.2218, 0])\n",
    "        cost += np.max([(monthly_consumption_kWh - 400) * 3.2484, 0])\n",
    "    return cost\n",
    "\n",
    "def energy2cost_tou(consumption_profile, time_profile):\n",
    "    cost = 0\n",
    "    energy_off_peak = integrate.trapezoid(\n",
    "        consumption_profile[: on_peak_period[0]*2+1], time_profile[: on_peak_period[0]*2+1]\n",
    "    )\n",
    "    energy_off_peak += integrate.trapezoid(\n",
    "        consumption_profile[on_peak_period[1]*2:], time_profile[on_peak_period[1]*2 :]\n",
    "    )\n",
    "    energy_on_peak = integrate.trapezoid(\n",
    "        consumption_profile[on_peak_period[0]*2 : on_peak_period[1]*2],\n",
    "        time_profile[on_peak_period[0]*2 : on_peak_period[1]*2],\n",
    "    )\n",
    "    cost += 5.7982 * energy_on_peak\n",
    "    cost += 2.6369 * energy_off_peak\n",
    "    return cost"
   ]
  },
  {
   "cell_type": "code",
   "execution_count": 61,
   "metadata": {},
   "outputs": [],
   "source": [
    "# Convert energy saved to money saved\n",
    "money_saved = 0\n",
    "\n",
    "if tou:\n",
    "    original_price = energy2cost_tou(full_df[\"Consumption\"], full_df[\"time\"])\n",
    "    new_price = energy2cost_tou(full_df[\"Net consumption\"], full_df[\"time\"])\n",
    "    money_saved = original_price - new_price\n",
    "else:\n",
    "    original_price = energy2cost_no_tou(monthly_consumption_kWh)\n",
    "    new_price = energy2cost_no_tou(\n",
    "        integrate.trapezoid(full_df[\"Net consumption\"], full_df[\"time\"])\n",
    "    )\n",
    "    money_saved = original_price - new_price\n",
    "\n",
    "full_json[\"money saved\"] = money_saved"
   ]
  },
  {
   "cell_type": "code",
   "execution_count": 62,
   "metadata": {},
   "outputs": [],
   "source": [
    "money_sold = 0\n",
    "\n",
    "if full_json[\"fit\"]:\n",
    "    money_sold += energy_sold * 2.2\n",
    "\n",
    "full_json[\"money sold\"] = money_sold"
   ]
  },
  {
   "cell_type": "code",
   "execution_count": 63,
   "metadata": {},
   "outputs": [],
   "source": [
    "total_gain = money_saved + money_sold\n",
    "full_json[\"total gain\"] = total_gain"
   ]
  },
  {
   "cell_type": "code",
   "execution_count": 64,
   "metadata": {},
   "outputs": [
    {
     "data": {
      "text/plain": [
       "1907.9844285264455"
      ]
     },
     "execution_count": 64,
     "metadata": {},
     "output_type": "execute_result"
    }
   ],
   "source": [
    "total_gain"
   ]
  },
  {
   "cell_type": "code",
   "execution_count": 65,
   "metadata": {},
   "outputs": [
    {
     "data": {
      "image/png": "[encoded data removed]",
      "text/plain": [
       "<Figure size 432x288 with 1 Axes>"
      ]
     },
     "metadata": {
      "needs_background": "light"
     },
     "output_type": "display_data"
    }
   ],
   "source": [
    "plt.plot(full_df[\"time\"], full_df[\"Generation\"])\n",
    "plt.title(\"Daily Generation Profile\")\n",
    "plt.grid()"
   ]
  },
  {
   "cell_type": "code",
   "execution_count": 66,
   "metadata": {},
   "outputs": [
    {
     "data": {
      "image/png": "[encoded data removed]",
      "text/plain": [
       "<Figure size 432x288 with 1 Axes>"
      ]
     },
     "metadata": {
      "needs_background": "light"
     },
     "output_type": "display_data"
    }
   ],
   "source": [
    "plt.plot(full_df[\"time\"], full_df[\"Consumption\"])\n",
    "plt.title(\"Daily Consumption Profile Type 1.3\")\n",
    "plt.ylim([0, 60])\n",
    "plt.grid()"
   ]
  }
 ],
 "metadata": {
  "kernelspec": {
   "display_name": "Python 3",
   "language": "python",
   "name": "python3"
  },
  "language_info": {
   "codemirror_mode": {
    "name": "ipython",
    "version": 3
   },
   "file_extension": ".py",
   "mimetype": "text/x-python",
   "name": "python",
   "nbconvert_exporter": "python",
   "pygments_lexer": "ipython3",
   "version": "3.10.11"
  }
 },
 "nbformat": 4,
 "nbformat_minor": 2
}
